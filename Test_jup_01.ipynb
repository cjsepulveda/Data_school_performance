{
 "cells": [
  {
   "cell_type": "code",
   "execution_count": 1,
   "id": "d8d673fb-712c-48b8-8467-71fb721d552a",
   "metadata": {},
   "outputs": [],
   "source": [
    "from ipywidgets import HBox, VBox, Layout\n",
    "from IPython.display import display\n",
    "import ipywidgets as widgets\n",
    "import plotly.express as px\n",
    "import pandas as pd\n",
    "\n",
    "# convertir la hoja excel a un dataframe utilizando pandas\n",
    "data=pd.read_excel('data_jup_01.xlsx')\n"
   ]
  },
  {
   "cell_type": "code",
   "execution_count": 2,
   "id": "a7dbf631-e73d-4914-9b55-03af5be43d99",
   "metadata": {},
   "outputs": [],
   "source": [
    "# Función para filtrar los datos y graficar los rendimientos\n",
    "def filtros_graficos(level_option, subjets_option, area_option, expand_option,select_date):\n",
    "       \n",
    "        asignatura = subjets_option # Nombre de la asignatura elegida para el título del gráfico\n",
    "        data['PERIODO'] = pd.to_datetime(data['PERIODO']) #convierte la columna 'PERIODO' al formato de tiempo\n",
    "        data['month'] = data['PERIODO'].dt.month #agrega una columna numérica al dataframe, correspondiente al mes\n",
    "\n",
    "        months = select_date # variable para alamcenar lista de meses seleccionados\n",
    "        number_months = len(months) # cantidad de meses para ciclo for de las etiquetas de los sub_gráficos\n",
    "        calendario = {1: \"Enero\", 2: \"Febrero\", 3: \"Marzo\", 4: \"Abril\", 5: \"Mayo\", 6: \"Junio\", 7: \"Julio\", 8: \"Agosto\",\n",
    "                      9: \"Septiembre\", 10: \"Octubre\", 11: \"Noviembre\",12: \"Diciembre\" }\n",
    "    \n",
    "# data frame filtrado segun mes o meses elegidos\n",
    "        data_f_months= data[data['month'].isin(months)]\n",
    "\n",
    "    \n",
    "        if area_option =='PLAN COMÚN':\n",
    "\n",
    "            if expand_option == 1: # Opcion para expandir Nivel, grafica los cursos por separado\n",
    "                filtered_data=data_f_months[(data_f_months['NIVEL']==level_option) & (data_f_months['ASIGNATURA']==subjets_option)] # Datos por cada curso\n",
    "                final_data = filtered_data\n",
    "                graph_x_axes = 'CURSO'\n",
    "\n",
    "            elif expand_option == 2: # Opcion para contraer Nivel, grafica el Nivel completo\n",
    "                filtered_data=data_f_months[(data_f_months['NIVEL']==level_option) & (data_f_months['ASIGNATURA']==subjets_option)] # Datos por cada curso\n",
    "                mean_data = filtered_data.groupby(['PERIODO','NIVEL','ASIGNATURA']).mean(numeric_only=True).reset_index() # Datos Promediados por Nivel\n",
    "                final_data = mean_data\n",
    "                graph_x_axes = 'NIVEL'\n",
    "\n",
    "        elif area_option =='CARRERAS' or area_option =='PROFUNDIZACIÓN HC' :\n",
    "\n",
    "            if expand_option == 1: # Opcion para expandir Nivel, grafica los cursos por separado\n",
    "                filtered_data=data_f_months[(data_f_months['NIVEL']==level_option) & (data_f_months['TIPO']==subjets_option)] # Datos por cada modulo o electivo\n",
    "                final_data = filtered_data\n",
    "                graph_x_axes = 'ASIGNATURA'\n",
    "            \n",
    "            elif expand_option == 2: # Opcion para contraer Nivel, grafica el Nivel completo\n",
    "                filtered_data=data_f_months[(data_f_months['NIVEL']==level_option) & (data_f_months['TIPO']==subjets_option)] # Datos por cada modulo o electivo\n",
    "                mean_data = filtered_data.groupby(['PERIODO','NIVEL','TIPO']).mean(numeric_only=True).reset_index() # Datos Promediados por nivel\n",
    "                final_data = mean_data\n",
    "                graph_x_axes = 'NIVEL'\n",
    "                \n",
    "        trace01 = px.bar(final_data, x=graph_x_axes, y=['MB','B','S','I','P'],\n",
    "                     title= f'RENDIMIENTO ESTUDIANTES en {asignatura}',\n",
    "                     facet_col='PERIODO', #Dibujar uno o más gráficos separados por fecha, en este caso el mes de recolección de los datos\n",
    "                     #width=1024, height=440,\n",
    "                     labels={'value':'','variable':'Categorías','CURSO':'Cursos'},\n",
    "                     barmode='group',\n",
    "                     color_discrete_map={'MB':'blue','B':'green','S':'gold','I':'red','P':'silver'},\n",
    "                     template=\"simple_white\",\n",
    "                     range_y=[0,1],\n",
    "                     facet_col_spacing=0.08\n",
    "                     )\n",
    "    \n",
    "        for i in range(number_months): # Itera los titulos de los sub_graficos segun el mes o meses elegidos\n",
    "              trace01.layout.annotations[i].update(text=calendario[months[i]])\n",
    "\n",
    "            \n",
    "        trace01.update_yaxes(tickformat=\".1%\", tickfont_weight='bold',title_font_weight='bold',tickfont_size=15)\n",
    "        trace01.update_xaxes(tickfont_weight='bold', title_font_weight='bold')\n",
    "        trace01.update_layout(\n",
    "                         hoverlabel_font_color='white',\n",
    "                         hoverlabel_font_family='Consolas',\n",
    "                         uniformtext_minsize=5,\n",
    "                         uniformtext_mode='show',\n",
    "                         title_font_weight='bold',\n",
    "                         font_family='Consolas',\n",
    "                         title_font_size=20,\n",
    "                         title_x=0.5\n",
    "                         )\n",
    "        trace01.update_yaxes(showticklabels=True)\n",
    "        \n",
    "   \n",
    "        trace01.show()\n",
    "       \n",
    "        #print(f\"You selected: {level_option}\")\n",
    "        #print(months)"
   ]
  },
  {
   "cell_type": "code",
   "execution_count": 3,
   "id": "ec500a07-a815-4e14-a79c-d4418b0abc47",
   "metadata": {},
   "outputs": [],
   "source": [
    "# Controles interactivos, botones y listas despegables independientes y dependientes\n",
    "\n",
    "# Seleccionar el o los períodos para graficar (posibilidad de selección múltiple)\n",
    "select_date_multiple=widgets.SelectMultiple(\n",
    "    options=[('ABRIL',4), ('JUNIO',6)],\n",
    "    value =[4],\n",
    "    rows=4,\n",
    "    description='PERIODO',\n",
    "    disabled=False\n",
    ")\n",
    "\n",
    "# Selector para elegir entre el gráfico promedio de un nivel o el grafico con los cursos por separado.\n",
    "expand_buttons=widgets.RadioButtons(\n",
    "    options=[('Expandir',1), ('Contraer',2)],\n",
    "#   value='Expandir', # Valor por defecto 'Expandir'\n",
    "    layout={'width': 'max-content'}, # Si los nombres de los items son muy largos\n",
    "    description='Expandir o Contraer Nivel:',\n",
    "    disabled=False\n",
    ")\n",
    "\n",
    "# Lista despegable para áreas\n",
    "data_cleaned = data.dropna(subset=['AREA'])\n",
    "area_dropdown = widgets.Dropdown(\n",
    "    options=data_cleaned['AREA'].unique().tolist(),\n",
    "    description='Area:',\n",
    "    disabled=True,\n",
    ")\n",
    "\n",
    "# Primera lista despegable para niveles \n",
    "grade_dropdown = widgets.Dropdown(\n",
    "    options=data['NIVEL'].unique().tolist(),\n",
    "    description='Nivel:',\n",
    "    disabled=False,\n",
    ")\n",
    "\n",
    "# Segunda lista despegable para asignaturas (dependiente de la lista despegable niveles)\n",
    "subjets_dropdown =widgets.Dropdown(\n",
    "    options=data[data['NIVEL'] == '1MEDIO']['ASIGNATURA'].unique().tolist(),  # opcion por defecto es'1MEDIO'\n",
    "    description='Asignaturas:',\n",
    "    disabled=False,\n",
    ")\n",
    "\n",
    "# Función para actualizar las asignaturas basadas en la selección del grado y área\n",
    "def update_subjets_dropdown(*args):\n",
    "    \n",
    "    selected_grade = grade_dropdown.value\n",
    "    selected_area  = area_dropdown.value\n",
    "    \n",
    "    if (selected_grade =='2MEDIO' or selected_grade=='1MEDIO') and (\n",
    "        selected_area =='CARRERAS' or selected_area=='PROFUNDIZACIÓN HC'):\n",
    "\n",
    "        area_dropdown.value ='PLAN COMÚN' # Valor inicial del área cuando Nivel elegido es 1° Medio o 2° Medio\n",
    "\n",
    "    # Fixed indentation from here\n",
    "    elif selected_grade == '3MEDIO' or selected_grade =='4MEDIO':\n",
    "        \n",
    "        area_dropdown.disabled=False\n",
    "        \n",
    "        if selected_area =='PLAN COMÚN':\n",
    "            filtered_subjets = data[(data['NIVEL'] == selected_grade) & (data['AREA'] == selected_area) ]['ASIGNATURA'].unique().tolist()\n",
    "            subjets_dropdown.options = filtered_subjets\n",
    "\n",
    "        elif selected_area =='CARRERAS':\n",
    "            filtered_subjets = data[(data['NIVEL'] == selected_grade) & (data['AREA'] == selected_area) ]['TIPO'].unique().tolist()\n",
    "            subjets_dropdown.options = filtered_subjets\n",
    "\n",
    "        elif selected_area =='PROFUNDIZACIÓN HC':\n",
    "            filtered_subjets = data[(data['NIVEL'] == selected_grade) & (data['AREA'] == selected_area) ]['TIPO'].unique().tolist()\n",
    "            subjets_dropdown.options = filtered_subjets\n",
    "        \n",
    "    else:\n",
    "        \n",
    "        area_dropdown.disabled=True\n",
    "        filtered_subjets = data[data['NIVEL'] == selected_grade]['ASIGNATURA'].unique().tolist()\n",
    "        subjets_dropdown.options = filtered_subjets\n",
    "\n",
    "# Observar cambios en la lista despegable de niveles y ejecutar la función \"update_subjets_dropdown\" para actualizar la lista de asignaturas\n",
    "grade_dropdown.observe(update_subjets_dropdown, names='value')\n",
    "\n",
    "# Observar cambios en la Lista despegable de areas y ejecutar la función \"update_subjets_dropdown\" para actualizar la lista de asignaturas\n",
    "area_dropdown.observe(update_subjets_dropdown, names='value')\n",
    "\n",
    "# Actualización inicial de las opciones de asignaturas\n",
    "update_subjets_dropdown()\n"
   ]
  },
  {
   "cell_type": "code",
   "execution_count": 4,
   "id": "f1c0ed42-8ccb-4c55-bdfb-bd9c0e48ccdb",
   "metadata": {},
   "outputs": [],
   "source": [
    "# Organización de los controles interactivos mediante VBox, HBox  y layaout\n",
    "\n",
    "# Crear el HBox con la alineación deseada\n",
    "hbox_layout = Layout(justify_content='space-between')  # Centrar\n",
    "vbox_layout = Layout(align_items = 'baseline',height='200%')\n",
    "# Organizar en forma horizontal y vertical los controles interactivos de nivel, área, asignatura, y botones\n",
    "widgets_layout = VBox([HBox([grade_dropdown, subjets_dropdown, area_dropdown],layout=hbox_layout),HBox([expand_buttons,select_date_multiple])],layout=vbox_layout)\n",
    "\n"
   ]
  },
  {
   "cell_type": "code",
   "execution_count": 5,
   "id": "9e7ca09b-595f-455a-9da3-6069e72a1785",
   "metadata": {},
   "outputs": [
    {
     "data": {
      "application/vnd.jupyter.widget-view+json": {
       "model_id": "3cea92c8c48545fe80629c072e092880",
       "version_major": 2,
       "version_minor": 0
      },
      "text/plain": [
       "VBox(children=(HBox(children=(Dropdown(description='Nivel:', options=('1MEDIO', '2MEDIO', '3MEDIO', '4MEDIO'),…"
      ]
     },
     "execution_count": 5,
     "metadata": {},
     "output_type": "execute_result"
    }
   ],
   "source": [
    "widgets_layout"
   ]
  },
  {
   "cell_type": "code",
   "execution_count": 6,
   "id": "22a05205-1d37-4991-8ac4-2dc457588cb7",
   "metadata": {},
   "outputs": [],
   "source": [
    "# Vincular los valores de los controles interactivos a la función \"filtros_graficos\" para poder graficar, usando el modo \"interactive_output\"\n",
    "output = widgets.interactive_output(filtros_graficos, {\n",
    "        'level_option': grade_dropdown,\n",
    "        'subjets_option': subjets_dropdown,\n",
    "        'area_option': area_dropdown,\n",
    "        'expand_option': expand_buttons,\n",
    "        'select_date' : select_date_multiple,\n",
    "    })"
   ]
  },
  {
   "cell_type": "code",
   "execution_count": 8,
   "id": "c9b2c328-5e5a-496a-9ad4-e6f25c0cd2fa",
   "metadata": {},
   "outputs": [
    {
     "data": {
      "application/vnd.jupyter.widget-view+json": {
       "model_id": "3cea92c8c48545fe80629c072e092880",
       "version_major": 2,
       "version_minor": 0
      },
      "text/plain": [
       "VBox(children=(HBox(children=(Dropdown(description='Nivel:', options=('1MEDIO', '2MEDIO', '3MEDIO', '4MEDIO'),…"
      ]
     },
     "metadata": {},
     "output_type": "display_data"
    },
    {
     "data": {
      "application/vnd.jupyter.widget-view+json": {
       "model_id": "f8740ef9537f4f678df93f013a7d89d3",
       "version_major": 2,
       "version_minor": 0
      },
      "text/plain": [
       "Output()"
      ]
     },
     "metadata": {},
     "output_type": "display_data"
    }
   ],
   "source": [
    "# Mostrar los controles interactivos y el gráfico\n",
    "display(widgets_layout, output)"
   ]
  }
 ],
 "metadata": {
  "kernelspec": {
   "display_name": "Python [conda env:base] *",
   "language": "python",
   "name": "conda-base-py"
  },
  "language_info": {
   "codemirror_mode": {
    "name": "ipython",
    "version": 3
   },
   "file_extension": ".py",
   "mimetype": "text/x-python",
   "name": "python",
   "nbconvert_exporter": "python",
   "pygments_lexer": "ipython3",
   "version": "3.13.5"
  }
 },
 "nbformat": 4,
 "nbformat_minor": 5
}
